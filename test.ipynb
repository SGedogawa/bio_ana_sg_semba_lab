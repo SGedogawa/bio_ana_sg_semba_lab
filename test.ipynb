{
 "cells": [
  {
   "cell_type": "code",
   "execution_count": 13,
   "metadata": {},
   "outputs": [],
   "source": [
    "from mylib import calc, \n",
    "import numpy as np\n",
    "import matplotlib.pyplot as plt\n",
    "\n",
    "%matplotlib inline\n",
    "from matplotlib_venn import venn3"
   ]
  },
  {
   "cell_type": "code",
   "execution_count": 5,
   "metadata": {},
   "outputs": [
    {
     "name": "stdout",
     "output_type": "stream",
     "text": [
      "cancer species num ? 5\n",
      "drug name ? imatinib\n",
      "tissue ? blood\n",
      "cancer species num ? 5\n",
      "drug name ? nilotinib\n",
      "tissue ? blood\n"
     ]
    }
   ],
   "source": [
    "info_ima = calc.Calc()\n",
    "info_nilo = calc.Calc()"
   ]
  },
  {
   "cell_type": "code",
   "execution_count": 3,
   "metadata": {},
   "outputs": [
    {
     "name": "stdout",
     "output_type": "stream",
     "text": [
      "cancer species num ? 5\n",
      "drug name ? cytarabine\n",
      "tissue ? blood\n"
     ]
    }
   ],
   "source": [
    "info_dasa = calc.Calc()"
   ]
  },
  {
   "cell_type": "code",
   "execution_count": 30,
   "metadata": {},
   "outputs": [
    {
     "name": "stderr",
     "output_type": "stream",
     "text": [
      "C:\\Users\\user\\Anaconda3\\envs\\pybio\\lib\\site-packages\\numpy\\lib\\function_base.py:2559: RuntimeWarning: invalid value encountered in true_divide\n",
      "  c /= stddev[:, None]\n",
      "C:\\Users\\user\\Anaconda3\\envs\\pybio\\lib\\site-packages\\numpy\\lib\\function_base.py:2560: RuntimeWarning: invalid value encountered in true_divide\n",
      "  c /= stddev[None, :]\n"
     ]
    }
   ],
   "source": [
    "z = 2.9\n",
    "ima = info_ima.find_r_gene(z)\n",
    "nilo = info_nilo.find_r_gene(z)\n",
    "dasa = info_dasa.find_r_gene(z)"
   ]
  },
  {
   "cell_type": "code",
   "execution_count": 31,
   "metadata": {},
   "outputs": [
    {
     "name": "stdout",
     "output_type": "stream",
     "text": [
      "17\n",
      "24\n",
      "47\n"
     ]
    }
   ],
   "source": []
  },
  {
   "cell_type": "code",
   "execution_count": 32,
   "metadata": {},
   "outputs": [
    {
     "name": "stdout",
     "output_type": "stream",
     "text": [
      "[array(['ENSG00000100360.10'], dtype=object), array(['ENSG00000116586.7'], dtype=object), array(['ENSG00000122705.12'], dtype=object), array(['ENSG00000159921.10'], dtype=object), array(['ENSG00000161920.5'], dtype=object), array(['ENSG00000204822.6'], dtype=object), array(['ENSG00000212978.5'], dtype=object), array(['ENSG00000228903.2'], dtype=object), array(['ENSG00000235314.1'], dtype=object), array(['ENSG00000259826.1'], dtype=object)]\n"
     ]
    }
   ],
   "source": [
    "ima_nilo = []\n",
    "for i in ima:\n",
    "    for j in nilo:\n",
    "        if i == j:\n",
    "            ima_nilo.append(i)\n",
    "\n",
    "print(ima_nilo)"
   ]
  },
  {
   "cell_type": "code",
   "execution_count": 33,
   "metadata": {},
   "outputs": [
    {
     "name": "stdout",
     "output_type": "stream",
     "text": [
      "[]\n"
     ]
    }
   ],
   "source": [
    "ima_dasa = []\n",
    "for i in ima:\n",
    "    for j in dasa:\n",
    "        if i == j:\n",
    "            ima_dasa.append(i)\n",
    "\n",
    "print(ima_dasa)"
   ]
  },
  {
   "cell_type": "code",
   "execution_count": 34,
   "metadata": {},
   "outputs": [
    {
     "name": "stdout",
     "output_type": "stream",
     "text": [
      "[]\n"
     ]
    }
   ],
   "source": [
    "nilo_dasa = []\n",
    "for i in nilo:\n",
    "    for j in dasa:\n",
    "        if i == j:\n",
    "            nilo_dasa.append(i)\n",
    "\n",
    "print(nilo_dasa)"
   ]
  },
  {
   "cell_type": "code",
   "execution_count": 35,
   "metadata": {},
   "outputs": [
    {
     "name": "stdout",
     "output_type": "stream",
     "text": [
      "[]\n"
     ]
    }
   ],
   "source": [
    "ima_nilo_dasa = []\n",
    "\n",
    "for i in ima_nilo:\n",
    "    for j in ima_dasa:\n",
    "        if i == j:\n",
    "            ima_nilo_dasa.append(i)\n",
    "            \n",
    "print(ima_nilo_dasa)"
   ]
  },
  {
   "cell_type": "code",
   "execution_count": 36,
   "metadata": {},
   "outputs": [
    {
     "data": {
      "image/png": "[encoded data removed]",
      "text/plain": [
       "<Figure size 432x288 with 1 Axes>"
      ]
     },
     "metadata": {},
     "output_type": "display_data"
    }
   ],
   "source": [
    "venn3(subsets = (\n",
    "    len(ima) - len(ima_nilo) - len(ima_dasa) + len(ima_nilo_dasa),\n",
    "    len(nilo) - len(nilo_dasa) -len(ima_nilo) + len(ima_nilo_dasa), \n",
    "    len(ima_nilo) - len(ima_nilo_dasa), \n",
    "    len(dasa) - len(ima_dasa) - len(nilo_dasa) + len(ima_nilo_dasa),\n",
    "    len(ima_dasa) - len(ima_nilo_dasa),\n",
    "    len(nilo_dasa) - len(ima_nilo_dasa),\n",
    "    len(ima_nilo_dasa)),\n",
    "      set_labels = ('imatinib z >= 2.9', 'nilotinib z >= 2.9', 'cytarabine z >= 2.9'))\n",
    "plt.show()"
   ]
  },
  {
   "cell_type": "code",
   "execution_count": null,
   "metadata": {},
   "outputs": [],
   "source": []
  },
  {
   "cell_type": "code",
   "execution_count": 12,
   "metadata": {},
   "outputs": [
    {
     "data": {
      "text/plain": [
       "Text(0, 0.5, 'Frequency')"
      ]
     },
     "execution_count": 12,
     "metadata": {},
     "output_type": "execute_result"
    },
    {
     "data": {
      "image/png": "[encoded data removed]",
      "text/plain": [
       "<Figure size 432x288 with 1 Axes>"
      ]
     },
     "metadata": {
      "needs_background": "light"
     },
     "output_type": "display_data"
    }
   ],
   "source": [
    "plt.hist(cor_list, bins=40)\n",
    "plt.xlabel(\"correlation\", fontsize=10)            # x軸ラベル\n",
    "plt.ylabel(\"Frequency\", fontsize=10)      # y軸ラベル"
   ]
  },
  {
   "cell_type": "code",
   "execution_count": 3,
   "metadata": {},
   "outputs": [
    {
     "data": {
      "text/plain": [
       "Text(0, 0.5, 'Frequency')"
      ]
     },
     "execution_count": 3,
     "metadata": {},
     "output_type": "execute_result"
    },
    {
     "data": {
      "image/png": "[encoded data removed]",
      "text/plain": [
       "<Figure size 432x288 with 1 Axes>"
      ]
     },
     "metadata": {
      "needs_background": "light"
     },
     "output_type": "display_data"
    }
   ],
   "source": [
    "fig = plt.figure()\n",
    "plt.hist(zscore_list, bins=40)\n",
    "plt.xlabel(\"z score\", fontsize=10)            # x軸ラベル\n",
    "plt.ylabel(\"Frequency\", fontsize=10)      # y軸ラベル"
   ]
  },
  {
   "cell_type": "code",
   "execution_count": 4,
   "metadata": {},
   "outputs": [
    {
     "data": {
      "text/plain": [
       "Text(0, 0.5, 'Frequency')"
      ]
     },
     "execution_count": 4,
     "metadata": {},
     "output_type": "execute_result"
    },
    {
     "data": {
      "image/png": "[encoded data removed]",
      "text/plain": [
       "<Figure size 432x288 with 1 Axes>"
      ]
     },
     "metadata": {
      "needs_background": "light"
     },
     "output_type": "display_data"
    }
   ],
   "source": [
    "import numpy as np\n",
    "x = np.empty(5)\n",
    "y = np.empty(5)\n",
    "\n",
    "z = 3.0\n",
    "y[i] = len(info.find_r_gene(z))\n",
    "\n",
    "label = [\"2.6\", \"2.8\", \"3.0\", \"3.2\", \"3.4\"]\n",
    "plt.bar(x, y, tick_label = label, width=0.8)\n",
    "\n",
    "plt.xlabel(\"z score\", fontsize=10)            # x軸ラベル\n",
    "plt.ylabel(\"Frequency\", fontsize=10)            # y軸ラベル"
   ]
  },
  {
   "cell_type": "code",
   "execution_count": null,
   "metadata": {},
   "outputs": [],
   "source": []
  }
 ],
 "metadata": {
  "kernelspec": {
   "display_name": "Environment (conda_pybio)",
   "language": "python",
   "name": "conda_pybio"
  },
  "language_info": {
   "codemirror_mode": {
    "name": "ipython",
    "version": 3
   },
   "file_extension": ".py",
   "mimetype": "text/x-python",
   "name": "python",
   "nbconvert_exporter": "python",
   "pygments_lexer": "ipython3",
   "version": "3.8.5"
  }
 },
 "nbformat": 4,
 "nbformat_minor": 4
}
